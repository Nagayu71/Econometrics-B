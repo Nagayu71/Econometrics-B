{
 "cells": [
  {
   "cell_type": "code",
   "execution_count": 1,
   "metadata": {},
   "outputs": [],
   "source": [
    "import numpy as np\n",
    "import pandas as pd\n",
    "import matplotlib.pyplot as plt"
   ]
  },
  {
   "cell_type": "markdown",
   "metadata": {},
   "source": [
    "# 不偏性\n",
    "## 定数項なし\n",
    "定数項を含まない単純回帰モデルを想定：\n",
    "$$\n",
    "y_i = \\beta x_i + u_i,~~~~ i = 1,\\ldots,n\n",
    "$$\n",
    "回帰直線\n",
    "$$\n",
    "\\hat{y} = \\hat{\\beta}x\n",
    "$$\n",
    "を引く．ここで，最小二乗推定量 $\\hat{\\beta}$ は\n",
    "$$\n",
    "\\hat{\\beta} = \\frac{\\sum_i x_iy_i}{\\sum_i x_i^2}\n",
    "$$\n",
    "で与えられる．この最小二乗推定量は確率変数であるが，不偏性を満たすことが知られている．つまり，$\\hat{\\beta}$ は真の係数（パラメータ）$\\beta$ と平均的に一致する．\n",
    "$$\n",
    "\\text{E}(\\hat{\\beta}) = \\beta.\n",
    "$$\n",
    "この抽象的でわかりにくい性質を，モンテカルロ・シミュレーションを通して理解する．\n",
    "\n",
    "### データ発生過程（母集団）\n",
    "$$\n",
    "y_i = \\beta x_i + u_i \\\\\n",
    "\\beta = 1, ~~ u_i \\overset{i.i.d}{\\sim} N(0, 0.02), ~~ x_i \\overset{iid}{\\sim} U(-0.5,0.5)\n",
    "$$\n",
    "この DGP からモンテカルロ標本を $J = 10^5$ 個作成し，それぞれについて最小二乗推定値 $\\hat{\\beta}_j$ を計算し，ヒストグラムを描画する．ヒストグラムは $\\beta = 1$ を中心にしてばらつくはずである．"
   ]
  },
  {
   "cell_type": "code",
   "execution_count": 2,
   "metadata": {},
   "outputs": [],
   "source": [
    "J = 10**5            # # of Monte Carlo samples\n",
    "n = 30               # sample size\n",
    "beta = 1             # true slope coefficient\n",
    "sigsq = 0.02         # error variance\n",
    "sig = np.sqrt(sigsq) # error standard deviation\n",
    "x = np.random.rand(n) - 0.5 # generate x from Unif(-0.5, 0.5) and make it fixed\n",
    "sum_squared = sum(x * x) # sum of squares of x"
   ]
  },
  {
   "cell_type": "code",
   "execution_count": 3,
   "metadata": {},
   "outputs": [],
   "source": [
    "estimates = []\n",
    "for j in range(J):\n",
    "    u = np.random.normal(loc=0, scale=sig, size=n) # generate error from N(0, 0.02)\n",
    "    y = beta * x + u                               # generate y\n",
    "    sum_products = sum(x * y)                      # sum of cross product of x and y\n",
    "    beta_hat = sum_products / sum_squared          # OLS estimator for beta\n",
    "    estimates.append(beta_hat)                     # save outputs"
   ]
  },
  {
   "cell_type": "code",
   "execution_count": 4,
   "metadata": {},
   "outputs": [
    {
     "data": {
      "image/png": "[encoded data removed]",
      "text/plain": [
       "<Figure size 640x480 with 1 Axes>"
      ]
     },
     "metadata": {},
     "output_type": "display_data"
    }
   ],
   "source": [
    "# plot a histogram of estimates for beta\n",
    "fig, ax = plt.subplots()\n",
    "ax.hist(estimates, bins=50, edgecolor=\"k\")\n",
    "ax.set_title(r\"Histogram of $\\hat{\\beta}$\");"
   ]
  },
  {
   "cell_type": "markdown",
   "metadata": {},
   "source": [
    "### モンテカルロ・シミュレーションの結果\n",
    "$\\beta$ の最小二乗推定値の標本平均（$\\text{E}(\\hat{\\beta})$ の近似値）は"
   ]
  },
  {
   "cell_type": "code",
   "execution_count": 5,
   "metadata": {},
   "outputs": [
    {
     "data": {
      "text/plain": [
       "1.000371817535159"
      ]
     },
     "execution_count": 5,
     "metadata": {},
     "output_type": "execute_result"
    }
   ],
   "source": [
    "sample_mean = sum(estimates) / J\n",
    "sample_mean"
   ]
  },
  {
   "cell_type": "markdown",
   "metadata": {},
   "source": [
    "真のパラメータ $\\beta = 1$ とほぼ一致していることがわかる．つまり，最小二乗推定量 $\\hat{\\beta}$ が不偏推定量であることを強く示唆する実験結果が得られた．"
   ]
  },
  {
   "cell_type": "markdown",
   "metadata": {},
   "source": [
    "## 定数項あり"
   ]
  }
 ],
 "metadata": {
  "kernelspec": {
   "display_name": ".venv",
   "language": "python",
   "name": "python3"
  },
  "language_info": {
   "codemirror_mode": {
    "name": "ipython",
    "version": 3
   },
   "file_extension": ".py",
   "mimetype": "text/x-python",
   "name": "python",
   "nbconvert_exporter": "python",
   "pygments_lexer": "ipython3",
   "version": "3.11.6"
  }
 },
 "nbformat": 4,
 "nbformat_minor": 2
}
