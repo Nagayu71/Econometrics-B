{
 "cells": [
  {
   "cell_type": "markdown",
   "metadata": {},
   "source": [
    "# 定数項を含む単純回帰モデル\n",
    "真のデータ発生過程が次式で与えられていると仮定する．\n",
    "$$\n",
    "y_i = \\alpha_0 + \\beta_0x_i + u_i,~~~~ i = 1,\\ldots,n\n",
    "$$\n",
    "ここで定数項を含む単回帰モデルを考える．\n",
    "$$\n",
    "y_i = \\alpha + \\beta x_i + u_i,~~~~ i = 1,\\ldots,n\n",
    "$$\n",
    "ただし，誤差項 $u$ について，次の仮定を課す．\n",
    "$$\n",
    "\\begin{align*}\n",
    "&\\text{E}(u_i) = 0~~\\forall i, \\\\\n",
    "&\\text{E}(u_i^2) = \\sigma_u^2~~\\forall i, \\\\\n",
    "&\\text{E}(u_iu_j) = 0~~(i \\neq j), \\\\\n",
    "&u_i\\overset{i.i.d}{\\sim} N(0, \\sigma_u^2)~~\\forall i.\n",
    "\\end{align*}\n",
    "$$\n",
    "\n",
    "最小二乗推定量 $\\hat{\\alpha},\\hat{\\beta}$ は\n",
    "$$\n",
    "\\hat{\\alpha} = \\bar{y} - \\hat{\\beta}\\bar{x},~~~~\n",
    "\\hat{\\beta} = \\frac{\\sum_i (x_i-\\bar{x})(y_i-\\bar{y})}{\\sum_i (x_i-\\bar{x})^2}\n",
    "$$\n",
    "で与えられる．ただし，$\\bar{x}, \\bar{y}$ は標本平均である．OLS推定量 $\\hat{\\alpha}, \\hat{\\beta}$ は，次の正規分布に従うことが知られている．\n",
    "$$\n",
    "\\hat{\\alpha} \\sim N\\left\\{\\alpha_0,\\sigma_u^2\\left(\\frac{1}{n}+\\frac{\\bar{x}^2}{s_x}\\right)\\right\\},~~~~\n",
    "\\hat{\\beta} \\sim N\\left\\{\\beta_0, \\frac{\\sigma_u^2}{s_x}\\right\\}~~~~\n",
    "\\text{where}~~s_x \\equiv \\sum_i(x_i - \\bar{x})^2\n",
    "$$\n",
    "実際のデータ分析では，誤差項の分散 $\\sigma_u^2$ は未知なので，データから推定するしかない．誤差項の分散の推定量は次式で与えられる．\n",
    "$$\n",
    "\\hat{\\sigma_u^2} = \\frac{1}{n-2}\\sum_i(y_i - \\hat{\\alpha}-\\hat{\\beta}x_i)^2\n",
    "$$\n",
    "この推定量を使うと，OLS推定量 $\\hat{\\alpha}, \\hat{\\beta}$ の標準誤差（標準偏差の推定量）は\n",
    "$$\n",
    "\\widehat{se}_{\\alpha} = \\sqrt{\\hat{\\sigma_u}^2\\left(\\frac{1}{n}+\\frac{\\bar{x}^2}{s_x}\\right)},~~~~\n",
    "\\widehat{se}_{\\beta} = \\sqrt{\\frac{\\hat{\\sigma_u}^2}{s_x}}\n",
    "$$\n",
    "となる．これらの推定量を使うと分析者のパラメータについての仮説 $\\alpha_0 = \\alpha^*,\\beta_0 = \\beta^*$ の下で，$\\hat{\\alpha}, \\hat{\\beta}$ のt統計量はそれぞれ，\n",
    "$$\n",
    "\\hat{t}_\\alpha = \\frac{\\hat{\\alpha}-\\alpha^*}{\\widehat{se}_{\\alpha}},~~~~\n",
    "\\hat{t}_\\beta = \\frac{\\hat{\\beta}-\\beta^*}{\\widehat{se}_{\\beta}}\n",
    "$$\n",
    "で計算できる．t統計量は自由度 $n-2$ のt分布に従うので，この事実をもとにして棄却域や信頼区間を計算できる．\n",
    "\n",
    "## t検定の信頼区間\n",
    "$\\beta$ の信頼区間を求める．t統計量は自由度 $n-2$ のt分布に従う．\n",
    "$$\n",
    "t_\\beta = \\frac{\\hat{\\beta}-\\beta_0}{\\widehat{se}_{\\beta}} \\sim t_{n-2}\n",
    "$$\n",
    "この性質から信頼度 $1-a$ の信頼区間を求めることができる．臨界値 $r_{a}$の定義から\n",
    "$$\n",
    "\\begin{align}\n",
    "1-a &= \\Pr\\left(\\left|\\frac{\\hat{\\beta}-\\beta_0}{\\widehat{se}_{\\beta}}\\right| \\leq r_a \\right) \\\\\n",
    "&= \\Pr\\left(-r_a \\leq \\frac{\\hat{\\beta}-\\beta_0}{\\widehat{se}_{\\beta}} \\leq r_a \\right) \\\\\n",
    "&=\\Pr\\left(\\hat{\\beta}-r_a\\widehat{se}_{\\beta} \\leq \\beta_0 \\leq \\hat{\\beta}+r_a\\widehat{se}_{\\beta} \\right)\n",
    "\\end{align}\n",
    "$$\n",
    "と変形でき，この $\\hat{\\beta}-r_a\\widehat{se}_{\\beta} \\leq \\beta_0 \\leq \\hat{\\beta}+r_a\\widehat{se}_{\\beta}$ が信頼度 $1-a$ の信頼区間に他ならない．この信頼区間の振る舞いをモンテカルロ実験を行って理解する．\n",
    "\n",
    "### データ発生過程（母集団）\n",
    "$$\n",
    "y_i = \\alpha_0 + \\beta_0 x_i + u_i \\\\\n",
    "\\alpha_0 = 1, ~~ \\beta_0 = 0.5, ~~ u_i \\overset{i.i.d}{\\sim} N(0, 0.02), ~~ x_i \\overset{iid}{\\sim} U(-0.5,0.5)\n",
    "$$\n",
    "この DGP からモンテカルロ標本を $J = 10^5$ 個作成し，それぞれについて推定値 $\\hat{\\beta}_j, \\widehat{se}_{\\beta_j}$ を計算し，信頼区間を求める．$J$ この標本から計算した信頼区間のうち何個の標本で真のパラメータ $\\beta_0$ を含む区間を推定できたかをカウントし，その割合が信頼度に一致することを確認する．"
   ]
  },
  {
   "cell_type": "code",
   "execution_count": 1,
   "metadata": {},
   "outputs": [],
   "source": [
    "import numpy as np\n",
    "import scipy as sp\n",
    "import matplotlib.pyplot as plt"
   ]
  },
  {
   "cell_type": "code",
   "execution_count": 2,
   "metadata": {},
   "outputs": [],
   "source": [
    "J = 10**5            # # of Monte Carlo samples\n",
    "n = 30               # sample size\n",
    "alpha = -1           # true intercept\n",
    "beta = 0.5           # true slope coefficient\n",
    "sigsq = 0.02         # error variance\n",
    "sig = np.sqrt(sigsq) # error standard deviation\n",
    "x = np.random.rand(n) - 0.5         # generate x from Unif(-0.5, 0.5) and make it fixed\n",
    "x_bar = x.mean()                    # sample mean of x\n",
    "sum_squared = sum((x - x_bar) ** 2) # sum of squares of x"
   ]
  },
  {
   "cell_type": "code",
   "execution_count": 3,
   "metadata": {},
   "outputs": [],
   "source": [
    "beta_hats = []      # list to save each beta hat\n",
    "se_bs = []          # list to save each standard error of beta hat\n",
    "\n",
    "for j in range(J):\n",
    "    u = np.random.normal(loc=0, scale=sig, size=n) # generate error from N(0, 0.02)\n",
    "    y = alpha + beta * x + u                       # generate y\n",
    "    y_bar = y.mean()                               # sample mean of y\n",
    "    sum_products = sum((x - x_bar) * (y - y_bar))  # sum of cross product of x and y\n",
    "    beta_hat = sum_products / sum_squared          # OLS estimator for beta\n",
    "    alpha_hat = y_bar - beta_hat * x_bar           # OLS estimator for alpha\n",
    "    y_hat = alpha_hat + beta_hat * x               # regression equation\n",
    "    RSS = sum((y - y_hat) ** 2)                    # residual sum of squares\n",
    "    var_hat = RSS / (n -2)                         # estimator for the error variance\n",
    "    se_b = np.sqrt(var_hat / sum_squared)          # standard error of beta hat\n",
    "    # save outputs\n",
    "    beta_hats.append(beta_hat)\n",
    "    se_bs.append(se_b)"
   ]
  },
  {
   "cell_type": "code",
   "execution_count": 4,
   "metadata": {},
   "outputs": [],
   "source": [
    "a = 0.05 \n",
    "df = n - 2 # degree of freedom\n",
    "r_a = sp.stats.t.ppf(1 - a/2, df) # critical value\n",
    "\n",
    "result = []\n",
    "for beta_hat, se_b in zip(beta_hats, se_bs):\n",
    "    lower_limit = beta_hat - r_a * se_b\n",
    "    upper_limit = beta_hat + r_a * se_b\n",
    "    if lower_limit <= beta <= upper_limit:\n",
    "        result.append(1)\n",
    "    else:\n",
    "        result.append(0)\n"
   ]
  },
  {
   "cell_type": "code",
   "execution_count": 5,
   "metadata": {},
   "outputs": [
    {
     "data": {
      "text/plain": [
       "0.95163"
      ]
     },
     "execution_count": 5,
     "metadata": {},
     "output_type": "execute_result"
    }
   ],
   "source": [
    "sum(result) / len(result)"
   ]
  }
 ],
 "metadata": {
  "kernelspec": {
   "display_name": ".venv",
   "language": "python",
   "name": "python3"
  },
  "language_info": {
   "codemirror_mode": {
    "name": "ipython",
    "version": 3
   },
   "file_extension": ".py",
   "mimetype": "text/x-python",
   "name": "python",
   "nbconvert_exporter": "python",
   "pygments_lexer": "ipython3",
   "version": "3.11.6"
  }
 },
 "nbformat": 4,
 "nbformat_minor": 2
}
